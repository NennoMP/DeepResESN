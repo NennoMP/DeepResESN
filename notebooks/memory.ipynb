{
 "cells": [
  {
   "cell_type": "code",
   "execution_count": 81,
   "id": "e5e0d640-ac69-4268-ada6-f4d46d6e1197",
   "metadata": {},
   "outputs": [
    {
     "name": "stdout",
     "output_type": "stream",
     "text": [
      "The autoreload extension is already loaded. To reload it, use:\n",
      "  %reload_ext autoreload\n"
     ]
    }
   ],
   "source": [
    "import os\n",
    "import sys\n",
    "\n",
    "import numpy as np\n",
    "import pandas as pd\n",
    "import torch\n",
    "\n",
    "dir_parts = os.getcwd().split(os.path.sep)\n",
    "root_index = dir_parts.index(dir_parts[-2])\n",
    "root_dir = os.path.sep.join(dir_parts[:root_index + 1])\n",
    "sys.path.append(root_dir + '/code/')\n",
    "import data.data_utils as data_utils\n",
    "import networks.deep_resesn as deep_resesn\n",
    "from networks.reservoir import ReservoirConfig\n",
    "from training.solver_regression import SolverRegression\n",
    "\n",
    "%load_ext autoreload\n",
    "%autoreload 2"
   ]
  },
  {
   "cell_type": "code",
   "execution_count": 82,
   "id": "ea126ac7-05cc-499f-a675-e0ad1ebe919d",
   "metadata": {},
   "outputs": [],
   "source": [
    "device = 'cpu'"
   ]
  },
  {
   "cell_type": "markdown",
   "id": "9036e1be-b97f-4b87-9c6a-c51927549b69",
   "metadata": {},
   "source": [
    "# Preparation"
   ]
  },
  {
   "cell_type": "markdown",
   "id": "3ea22973-ac29-49eb-b82b-45ea88f3680e",
   "metadata": {},
   "source": [
    "### Settings"
   ]
  },
  {
   "cell_type": "code",
   "execution_count": 83,
   "id": "0bbea361-3544-479c-814b-8849e3bce40a",
   "metadata": {},
   "outputs": [],
   "source": [
    "DATASET_NAME = 'SinMem10'\n",
    "#DATASET_NAME = 'SinMem20'\n",
    "#DATASET_NAME = 'ctXORd5'\n",
    "#DATASET_NAME = 'ctXORd10'"
   ]
  },
  {
   "cell_type": "markdown",
   "id": "feab096b-0d15-4453-ac92-52a8f74b144e",
   "metadata": {},
   "source": [
    "### Data"
   ]
  },
  {
   "cell_type": "code",
   "execution_count": 84,
   "id": "a166d451-8f64-4888-a1ae-9ebabf07e34d",
   "metadata": {},
   "outputs": [],
   "source": [
    "if DATASET_NAME in ['SinMem10', 'SinMem20']:\n",
    "    washout = 200\n",
    "    if DATASET_NAME == 'SinMem10':\n",
    "        delay = 10\n",
    "    elif DATASET_NAME == 'SinMem20':\n",
    "        delay = 20\n",
    "    (train_dataset, train_target), (val_dataset, val_target), (test_dataset, test_target) = data_utils.get_sinmem(data_dir=f'{root_dir}/datasets', delay=delay, washout=washout)\n",
    "elif DATASET_NAME in ['ctXORd5', 'ctXORd10']:\n",
    "    washout = 200\n",
    "    if DATASET_NAME == 'ctXORd5':\n",
    "        delay = 5\n",
    "    elif DATASET_NAME == 'ctXORd10':\n",
    "        delay = 10\n",
    "    (train_dataset, train_target), (val_dataset, val_target), (test_dataset, test_target) = data_utils.get_ctXOR(data_dir=f'{root_dir}/datasets', delay=delay, washout=washout)"
   ]
  },
  {
   "cell_type": "markdown",
   "id": "ae0bafeb-c1d4-4192-98b4-9a41db2389c6",
   "metadata": {},
   "source": [
    "## Model"
   ]
  },
  {
   "cell_type": "code",
   "execution_count": 85,
   "id": "768d7eb9-568a-44e1-90cd-83e87364cace",
   "metadata": {},
   "outputs": [],
   "source": [
    "def get_model(hparams):\n",
    "    model = deep_resesn.deep_resesn_(hparams)\n",
    "    \n",
    "    n_layers = len(model.reservoir)\n",
    "    # Set temporal shortcuts' matrices\n",
    "    for i in range(n_layers):\n",
    "        if model.reservoir[i].net.ortho is not None:\n",
    "            _, M = model.reservoir[i].net.ortho.shape\n",
    "            model.reservoir[i].net.ortho = network_utils.init_shortcut(device, hparams['skip_option_t'], M) \n",
    "                \n",
    "    return model"
   ]
  },
  {
   "cell_type": "markdown",
   "id": "4f14e157-4401-4582-9d39-255b33caa16b",
   "metadata": {
    "tags": []
   },
   "source": [
    "# Training"
   ]
  },
  {
   "cell_type": "code",
   "execution_count": 93,
   "id": "1f83a334-7d42-4eb4-89b0-5303d7ad0621",
   "metadata": {},
   "outputs": [],
   "source": [
    "hparams = {\n",
    "    'concat': False, \n",
    "    'n_layers': 5,\n",
    "    'config': ReservoirConfig(in_scaling=1, rho=1.1, alpha=0.01, beta=0.0001),\n",
    "    'inter_config': ReservoirConfig(in_scaling=1, rho=0.9, alpha=0.5, beta=0.01),\n",
    "    'skip_option_t': 'cycle',\n",
    "}\n",
    "model = deep_resesn.get_deepresesn(hparams)"
   ]
  },
  {
   "cell_type": "code",
   "execution_count": 94,
   "id": "877336a6-0baf-4194-99ff-fa9358e26b0f",
   "metadata": {
    "scrolled": true,
    "tags": []
   },
   "outputs": [
    {
     "name": "stdout",
     "output_type": "stream",
     "text": [
      "Train NRMSE: 0.4502, Val NRMSE: 0.4493, Test NRMSE: 0.4803\n"
     ]
    }
   ],
   "source": [
    "solver = SolverRegression(\n",
    "    device=device,\n",
    "    model=model,\n",
    "    train_data=[train_dataset, train_target],\n",
    "    val_data=[val_dataset, val_target],\n",
    "    test_data=[test_dataset, test_target],\n",
    "    washout=washout,\n",
    "    reg=0,\n",
    ")\n",
    "train_nrmse, val_nrmse, test_nrmse = solver.train()"
   ]
  },
  {
   "cell_type": "code",
   "execution_count": 92,
   "id": "56b68ba4-3f33-4a13-b887-288f8e25508c",
   "metadata": {},
   "outputs": [
    {
     "name": "stdout",
     "output_type": "stream",
     "text": [
      "Val NRMSE: 1.0510084590014683 - Test NRMSE: 1.0387227039928963\n"
     ]
    }
   ],
   "source": [
    "print(f\"Val NRMSE: {val_nrmse} - Test NRMSE: {test_nrmse}\")"
   ]
  },
  {
   "cell_type": "code",
   "execution_count": null,
   "id": "09189a2b-48a5-40dc-be33-3e1a740e041c",
   "metadata": {},
   "outputs": [],
   "source": []
  }
 ],
 "metadata": {
  "kernelspec": {
   "display_name": "dl",
   "language": "python",
   "name": "venv"
  },
  "language_info": {
   "codemirror_mode": {
    "name": "ipython",
    "version": 3
   },
   "file_extension": ".py",
   "mimetype": "text/x-python",
   "name": "python",
   "nbconvert_exporter": "python",
   "pygments_lexer": "ipython3",
   "version": "3.6.8"
  }
 },
 "nbformat": 4,
 "nbformat_minor": 5
}
